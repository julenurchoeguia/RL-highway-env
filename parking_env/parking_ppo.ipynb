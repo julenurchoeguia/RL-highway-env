{
  "cells": [
    {
      "cell_type": "markdown",
      "metadata": {
        "id": "5eeje4O8fviH"
      },
      "source": [
        "# Parking with SB3's PPO\n",
        "\n",
        "##  Warming up\n",
        "We start with a few useful installs and imports:"
      ]
    },
    {
      "cell_type": "code",
      "execution_count": 17,
      "metadata": {
        "colab": {
          "base_uri": "https://localhost:8080/"
        },
        "id": "bzMSuJEOfviP",
        "outputId": "5b51314b-bc22-45d5-b4ef-349239cc4eb8"
      },
      "outputs": [
        {
          "name": "stderr",
          "output_type": "stream",
          "text": [
            "/usr/local/lib/python3.10/dist-packages/ipykernel/ipkernel.py:283: DeprecationWarning: `should_run_async` will not call `transform_cell` automatically in the future. Please pass the result to `transformed_cell` argument and any exception that happen during thetransform in `preprocessing_exc_tuple` in IPython 7.17 and above.\n",
            "  and should_run_async(code)\n"
          ]
        },
        {
          "name": "stdout",
          "output_type": "stream",
          "text": [
            "Requirement already satisfied: highway-env in /usr/local/lib/python3.10/dist-packages (1.8.2)\n",
            "Requirement already satisfied: gymnasium>=0.27 in /usr/local/lib/python3.10/dist-packages (from highway-env) (0.29.1)\n",
            "Requirement already satisfied: numpy in /usr/local/lib/python3.10/dist-packages (from highway-env) (1.25.2)\n",
            "Requirement already satisfied: pygame>=2.0.2 in /usr/local/lib/python3.10/dist-packages (from highway-env) (2.5.2)\n",
            "Requirement already satisfied: matplotlib in /usr/local/lib/python3.10/dist-packages (from highway-env) (3.7.1)\n",
            "Requirement already satisfied: pandas in /usr/local/lib/python3.10/dist-packages (from highway-env) (2.0.3)\n",
            "Requirement already satisfied: scipy in /usr/local/lib/python3.10/dist-packages (from highway-env) (1.11.4)\n",
            "Requirement already satisfied: cloudpickle>=1.2.0 in /usr/local/lib/python3.10/dist-packages (from gymnasium>=0.27->highway-env) (2.2.1)\n",
            "Requirement already satisfied: typing-extensions>=4.3.0 in /usr/local/lib/python3.10/dist-packages (from gymnasium>=0.27->highway-env) (4.11.0)\n",
            "Requirement already satisfied: farama-notifications>=0.0.1 in /usr/local/lib/python3.10/dist-packages (from gymnasium>=0.27->highway-env) (0.0.4)\n",
            "Requirement already satisfied: contourpy>=1.0.1 in /usr/local/lib/python3.10/dist-packages (from matplotlib->highway-env) (1.2.1)\n",
            "Requirement already satisfied: cycler>=0.10 in /usr/local/lib/python3.10/dist-packages (from matplotlib->highway-env) (0.12.1)\n",
            "Requirement already satisfied: fonttools>=4.22.0 in /usr/local/lib/python3.10/dist-packages (from matplotlib->highway-env) (4.51.0)\n",
            "Requirement already satisfied: kiwisolver>=1.0.1 in /usr/local/lib/python3.10/dist-packages (from matplotlib->highway-env) (1.4.5)\n",
            "Requirement already satisfied: packaging>=20.0 in /usr/local/lib/python3.10/dist-packages (from matplotlib->highway-env) (24.0)\n",
            "Requirement already satisfied: pillow>=6.2.0 in /usr/local/lib/python3.10/dist-packages (from matplotlib->highway-env) (9.4.0)\n",
            "Requirement already satisfied: pyparsing>=2.3.1 in /usr/local/lib/python3.10/dist-packages (from matplotlib->highway-env) (3.1.2)\n",
            "Requirement already satisfied: python-dateutil>=2.7 in /usr/local/lib/python3.10/dist-packages (from matplotlib->highway-env) (2.8.2)\n",
            "Requirement already satisfied: pytz>=2020.1 in /usr/local/lib/python3.10/dist-packages (from pandas->highway-env) (2023.4)\n",
            "Requirement already satisfied: tzdata>=2022.1 in /usr/local/lib/python3.10/dist-packages (from pandas->highway-env) (2024.1)\n",
            "Requirement already satisfied: six>=1.5 in /usr/local/lib/python3.10/dist-packages (from python-dateutil>=2.7->matplotlib->highway-env) (1.16.0)\n",
            "Collecting git+https://github.com/DLR-RM/stable-baselines3\n",
            "  Cloning https://github.com/DLR-RM/stable-baselines3 to /tmp/pip-req-build-rqgp5iq1\n",
            "  Running command git clone --filter=blob:none --quiet https://github.com/DLR-RM/stable-baselines3 /tmp/pip-req-build-rqgp5iq1\n",
            "  Resolved https://github.com/DLR-RM/stable-baselines3 to commit 5623d98f9d6bcfd2ab450e850c3f7b090aef5642\n",
            "  Installing build dependencies ... \u001b[?25l\u001b[?25hdone\n",
            "  Getting requirements to build wheel ... \u001b[?25l\u001b[?25hdone\n",
            "  Preparing metadata (pyproject.toml) ... \u001b[?25l\u001b[?25hdone\n",
            "Requirement already satisfied: gymnasium<0.30,>=0.28.1 in /usr/local/lib/python3.10/dist-packages (from stable_baselines3==2.3.0) (0.29.1)\n",
            "Requirement already satisfied: numpy>=1.20 in /usr/local/lib/python3.10/dist-packages (from stable_baselines3==2.3.0) (1.25.2)\n",
            "Requirement already satisfied: torch>=1.13 in /usr/local/lib/python3.10/dist-packages (from stable_baselines3==2.3.0) (2.2.1+cu121)\n",
            "Requirement already satisfied: cloudpickle in /usr/local/lib/python3.10/dist-packages (from stable_baselines3==2.3.0) (2.2.1)\n",
            "Requirement already satisfied: pandas in /usr/local/lib/python3.10/dist-packages (from stable_baselines3==2.3.0) (2.0.3)\n",
            "Requirement already satisfied: matplotlib in /usr/local/lib/python3.10/dist-packages (from stable_baselines3==2.3.0) (3.7.1)\n",
            "Requirement already satisfied: typing-extensions>=4.3.0 in /usr/local/lib/python3.10/dist-packages (from gymnasium<0.30,>=0.28.1->stable_baselines3==2.3.0) (4.11.0)\n",
            "Requirement already satisfied: farama-notifications>=0.0.1 in /usr/local/lib/python3.10/dist-packages (from gymnasium<0.30,>=0.28.1->stable_baselines3==2.3.0) (0.0.4)\n",
            "Requirement already satisfied: filelock in /usr/local/lib/python3.10/dist-packages (from torch>=1.13->stable_baselines3==2.3.0) (3.13.4)\n",
            "Requirement already satisfied: sympy in /usr/local/lib/python3.10/dist-packages (from torch>=1.13->stable_baselines3==2.3.0) (1.12)\n",
            "Requirement already satisfied: networkx in /usr/local/lib/python3.10/dist-packages (from torch>=1.13->stable_baselines3==2.3.0) (3.3)\n",
            "Requirement already satisfied: jinja2 in /usr/local/lib/python3.10/dist-packages (from torch>=1.13->stable_baselines3==2.3.0) (3.1.3)\n",
            "Requirement already satisfied: fsspec in /usr/local/lib/python3.10/dist-packages (from torch>=1.13->stable_baselines3==2.3.0) (2023.6.0)\n",
            "Requirement already satisfied: nvidia-cuda-nvrtc-cu12==12.1.105 in /usr/local/lib/python3.10/dist-packages (from torch>=1.13->stable_baselines3==2.3.0) (12.1.105)\n",
            "Requirement already satisfied: nvidia-cuda-runtime-cu12==12.1.105 in /usr/local/lib/python3.10/dist-packages (from torch>=1.13->stable_baselines3==2.3.0) (12.1.105)\n",
            "Requirement already satisfied: nvidia-cuda-cupti-cu12==12.1.105 in /usr/local/lib/python3.10/dist-packages (from torch>=1.13->stable_baselines3==2.3.0) (12.1.105)\n",
            "Requirement already satisfied: nvidia-cudnn-cu12==8.9.2.26 in /usr/local/lib/python3.10/dist-packages (from torch>=1.13->stable_baselines3==2.3.0) (8.9.2.26)\n",
            "Requirement already satisfied: nvidia-cublas-cu12==12.1.3.1 in /usr/local/lib/python3.10/dist-packages (from torch>=1.13->stable_baselines3==2.3.0) (12.1.3.1)\n",
            "Requirement already satisfied: nvidia-cufft-cu12==11.0.2.54 in /usr/local/lib/python3.10/dist-packages (from torch>=1.13->stable_baselines3==2.3.0) (11.0.2.54)\n",
            "Requirement already satisfied: nvidia-curand-cu12==10.3.2.106 in /usr/local/lib/python3.10/dist-packages (from torch>=1.13->stable_baselines3==2.3.0) (10.3.2.106)\n",
            "Requirement already satisfied: nvidia-cusolver-cu12==11.4.5.107 in /usr/local/lib/python3.10/dist-packages (from torch>=1.13->stable_baselines3==2.3.0) (11.4.5.107)\n",
            "Requirement already satisfied: nvidia-cusparse-cu12==12.1.0.106 in /usr/local/lib/python3.10/dist-packages (from torch>=1.13->stable_baselines3==2.3.0) (12.1.0.106)\n",
            "Requirement already satisfied: nvidia-nccl-cu12==2.19.3 in /usr/local/lib/python3.10/dist-packages (from torch>=1.13->stable_baselines3==2.3.0) (2.19.3)\n",
            "Requirement already satisfied: nvidia-nvtx-cu12==12.1.105 in /usr/local/lib/python3.10/dist-packages (from torch>=1.13->stable_baselines3==2.3.0) (12.1.105)\n",
            "Requirement already satisfied: triton==2.2.0 in /usr/local/lib/python3.10/dist-packages (from torch>=1.13->stable_baselines3==2.3.0) (2.2.0)\n",
            "Requirement already satisfied: nvidia-nvjitlink-cu12 in /usr/local/lib/python3.10/dist-packages (from nvidia-cusolver-cu12==11.4.5.107->torch>=1.13->stable_baselines3==2.3.0) (12.4.127)\n",
            "Requirement already satisfied: contourpy>=1.0.1 in /usr/local/lib/python3.10/dist-packages (from matplotlib->stable_baselines3==2.3.0) (1.2.1)\n",
            "Requirement already satisfied: cycler>=0.10 in /usr/local/lib/python3.10/dist-packages (from matplotlib->stable_baselines3==2.3.0) (0.12.1)\n",
            "Requirement already satisfied: fonttools>=4.22.0 in /usr/local/lib/python3.10/dist-packages (from matplotlib->stable_baselines3==2.3.0) (4.51.0)\n",
            "Requirement already satisfied: kiwisolver>=1.0.1 in /usr/local/lib/python3.10/dist-packages (from matplotlib->stable_baselines3==2.3.0) (1.4.5)\n",
            "Requirement already satisfied: packaging>=20.0 in /usr/local/lib/python3.10/dist-packages (from matplotlib->stable_baselines3==2.3.0) (24.0)\n",
            "Requirement already satisfied: pillow>=6.2.0 in /usr/local/lib/python3.10/dist-packages (from matplotlib->stable_baselines3==2.3.0) (9.4.0)\n",
            "Requirement already satisfied: pyparsing>=2.3.1 in /usr/local/lib/python3.10/dist-packages (from matplotlib->stable_baselines3==2.3.0) (3.1.2)\n",
            "Requirement already satisfied: python-dateutil>=2.7 in /usr/local/lib/python3.10/dist-packages (from matplotlib->stable_baselines3==2.3.0) (2.8.2)\n",
            "Requirement already satisfied: pytz>=2020.1 in /usr/local/lib/python3.10/dist-packages (from pandas->stable_baselines3==2.3.0) (2023.4)\n",
            "Requirement already satisfied: tzdata>=2022.1 in /usr/local/lib/python3.10/dist-packages (from pandas->stable_baselines3==2.3.0) (2024.1)\n",
            "Requirement already satisfied: six>=1.5 in /usr/local/lib/python3.10/dist-packages (from python-dateutil>=2.7->matplotlib->stable_baselines3==2.3.0) (1.16.0)\n",
            "Requirement already satisfied: MarkupSafe>=2.0 in /usr/local/lib/python3.10/dist-packages (from jinja2->torch>=1.13->stable_baselines3==2.3.0) (2.1.5)\n",
            "Requirement already satisfied: mpmath>=0.19 in /usr/local/lib/python3.10/dist-packages (from sympy->torch>=1.13->stable_baselines3==2.3.0) (1.3.0)\n"
          ]
        }
      ],
      "source": [
        "# Install environment and agent\n",
        "!pip install highway-env\n",
        "# TODO: we use the bleeding edge version because the current stable version does not support the latest gym>=0.21 versions. Revert back to stable at the next SB3 release.\n",
        "!pip install git+https://github.com/DLR-RM/stable-baselines3\n",
        "\n",
        "\n"
      ]
    },
    {
      "cell_type": "code",
      "execution_count": 27,
      "metadata": {
        "id": "qrwpl54BVSRI"
      },
      "outputs": [],
      "source": [
        "# Environment\n",
        "import gymnasium as gym\n",
        "import highway_env\n",
        "\n",
        "# Agent\n",
        "from stable_baselines3 import PPO"
      ]
    },
    {
      "cell_type": "code",
      "execution_count": 3,
      "metadata": {
        "colab": {
          "base_uri": "https://localhost:8080/"
        },
        "id": "Jh8_6h1RgELu",
        "outputId": "a60ba0da-3df0-4f9e-ac53-9c72731b43c2"
      },
      "outputs": [
        {
          "name": "stdout",
          "output_type": "stream",
          "text": [
            "Requirement already satisfied: gym in /usr/local/lib/python3.10/dist-packages (0.25.2)\n",
            "Collecting pyvirtualdisplay\n",
            "  Downloading PyVirtualDisplay-3.0-py3-none-any.whl (15 kB)\n",
            "Requirement already satisfied: numpy>=1.18.0 in /usr/local/lib/python3.10/dist-packages (from gym) (1.25.2)\n",
            "Requirement already satisfied: cloudpickle>=1.2.0 in /usr/local/lib/python3.10/dist-packages (from gym) (2.2.1)\n",
            "Requirement already satisfied: gym-notices>=0.0.4 in /usr/local/lib/python3.10/dist-packages (from gym) (0.0.8)\n",
            "Installing collected packages: pyvirtualdisplay\n",
            "Successfully installed pyvirtualdisplay-3.0\n",
            "Reading package lists... Done\n",
            "Building dependency tree... Done\n",
            "Reading state information... Done\n",
            "ffmpeg is already the newest version (7:4.4.2-0ubuntu0.22.04.1).\n",
            "The following additional packages will be installed:\n",
            "  libfontenc1 libxfont2 libxkbfile1 x11-xkb-utils xfonts-base xfonts-encodings xfonts-utils\n",
            "  xserver-common\n",
            "The following NEW packages will be installed:\n",
            "  libfontenc1 libxfont2 libxkbfile1 x11-xkb-utils xfonts-base xfonts-encodings xfonts-utils\n",
            "  xserver-common xvfb\n",
            "0 upgraded, 9 newly installed, 0 to remove and 45 not upgraded.\n",
            "Need to get 7,813 kB of archives.\n",
            "After this operation, 11.9 MB of additional disk space will be used.\n",
            "Get:1 http://archive.ubuntu.com/ubuntu jammy/main amd64 libfontenc1 amd64 1:1.1.4-1build3 [14.7 kB]\n",
            "Get:2 http://archive.ubuntu.com/ubuntu jammy/main amd64 libxfont2 amd64 1:2.0.5-1build1 [94.5 kB]\n",
            "Get:3 http://archive.ubuntu.com/ubuntu jammy/main amd64 libxkbfile1 amd64 1:1.1.0-1build3 [71.8 kB]\n",
            "Get:4 http://archive.ubuntu.com/ubuntu jammy/main amd64 x11-xkb-utils amd64 7.7+5build4 [172 kB]\n",
            "Get:5 http://archive.ubuntu.com/ubuntu jammy/main amd64 xfonts-encodings all 1:1.0.5-0ubuntu2 [578 kB]\n",
            "Get:6 http://archive.ubuntu.com/ubuntu jammy/main amd64 xfonts-utils amd64 1:7.7+6build2 [94.6 kB]\n",
            "Get:7 http://archive.ubuntu.com/ubuntu jammy/main amd64 xfonts-base all 1:1.0.5 [5,896 kB]\n",
            "Get:8 http://archive.ubuntu.com/ubuntu jammy-updates/main amd64 xserver-common all 2:21.1.4-2ubuntu1.7~22.04.10 [28.5 kB]\n",
            "Get:9 http://archive.ubuntu.com/ubuntu jammy-updates/universe amd64 xvfb amd64 2:21.1.4-2ubuntu1.7~22.04.10 [863 kB]\n",
            "Fetched 7,813 kB in 0s (34.0 MB/s)\n",
            "Selecting previously unselected package libfontenc1:amd64.\n",
            "(Reading database ... 131015 files and directories currently installed.)\n",
            "Preparing to unpack .../0-libfontenc1_1%3a1.1.4-1build3_amd64.deb ...\n",
            "Unpacking libfontenc1:amd64 (1:1.1.4-1build3) ...\n",
            "Selecting previously unselected package libxfont2:amd64.\n",
            "Preparing to unpack .../1-libxfont2_1%3a2.0.5-1build1_amd64.deb ...\n",
            "Unpacking libxfont2:amd64 (1:2.0.5-1build1) ...\n",
            "Selecting previously unselected package libxkbfile1:amd64.\n",
            "Preparing to unpack .../2-libxkbfile1_1%3a1.1.0-1build3_amd64.deb ...\n",
            "Unpacking libxkbfile1:amd64 (1:1.1.0-1build3) ...\n",
            "Selecting previously unselected package x11-xkb-utils.\n",
            "Preparing to unpack .../3-x11-xkb-utils_7.7+5build4_amd64.deb ...\n",
            "Unpacking x11-xkb-utils (7.7+5build4) ...\n",
            "Selecting previously unselected package xfonts-encodings.\n",
            "Preparing to unpack .../4-xfonts-encodings_1%3a1.0.5-0ubuntu2_all.deb ...\n",
            "Unpacking xfonts-encodings (1:1.0.5-0ubuntu2) ...\n",
            "Selecting previously unselected package xfonts-utils.\n",
            "Preparing to unpack .../5-xfonts-utils_1%3a7.7+6build2_amd64.deb ...\n",
            "Unpacking xfonts-utils (1:7.7+6build2) ...\n",
            "Selecting previously unselected package xfonts-base.\n",
            "Preparing to unpack .../6-xfonts-base_1%3a1.0.5_all.deb ...\n",
            "Unpacking xfonts-base (1:1.0.5) ...\n",
            "Selecting previously unselected package xserver-common.\n",
            "Preparing to unpack .../7-xserver-common_2%3a21.1.4-2ubuntu1.7~22.04.10_all.deb ...\n",
            "Unpacking xserver-common (2:21.1.4-2ubuntu1.7~22.04.10) ...\n",
            "Selecting previously unselected package xvfb.\n",
            "Preparing to unpack .../8-xvfb_2%3a21.1.4-2ubuntu1.7~22.04.10_amd64.deb ...\n",
            "Unpacking xvfb (2:21.1.4-2ubuntu1.7~22.04.10) ...\n",
            "Setting up libfontenc1:amd64 (1:1.1.4-1build3) ...\n",
            "Setting up xfonts-encodings (1:1.0.5-0ubuntu2) ...\n",
            "Setting up libxkbfile1:amd64 (1:1.1.0-1build3) ...\n",
            "Setting up libxfont2:amd64 (1:2.0.5-1build1) ...\n",
            "Setting up x11-xkb-utils (7.7+5build4) ...\n",
            "Setting up xfonts-utils (1:7.7+6build2) ...\n",
            "Setting up xfonts-base (1:1.0.5) ...\n",
            "Setting up xserver-common (2:21.1.4-2ubuntu1.7~22.04.10) ...\n",
            "Setting up xvfb (2:21.1.4-2ubuntu1.7~22.04.10) ...\n",
            "Processing triggers for man-db (2.10.2-1) ...\n",
            "Processing triggers for fontconfig (2.13.1-4.2ubuntu5) ...\n",
            "Processing triggers for libc-bin (2.35-0ubuntu3.4) ...\n",
            "/sbin/ldconfig.real: /usr/local/lib/libtbb.so.12 is not a symbolic link\n",
            "\n",
            "/sbin/ldconfig.real: /usr/local/lib/libtbbmalloc_proxy.so.2 is not a symbolic link\n",
            "\n",
            "/sbin/ldconfig.real: /usr/local/lib/libtbbmalloc.so.2 is not a symbolic link\n",
            "\n",
            "/sbin/ldconfig.real: /usr/local/lib/libtbbbind_2_5.so.3 is not a symbolic link\n",
            "\n",
            "/sbin/ldconfig.real: /usr/local/lib/libtbbbind_2_0.so.3 is not a symbolic link\n",
            "\n",
            "/sbin/ldconfig.real: /usr/local/lib/libtbbbind.so.3 is not a symbolic link\n",
            "\n"
          ]
        }
      ],
      "source": [
        "\n",
        "# Visualization utils\n",
        "import sys\n",
        "from tqdm.notebook import trange\n",
        "!pip install gym pyvirtualdisplay\n",
        "!apt-get install -y xvfb ffmpeg\n",
        "!git clone https://github.com/Farama-Foundation/HighwayEnv.git 2> /dev/null\n",
        "sys.path.insert(0, '/content/HighwayEnv/scripts/')\n",
        "from utils import record_videos, show_videos"
      ]
    },
    {
      "cell_type": "markdown",
      "metadata": {
        "collapsed": false,
        "id": "_wACJRDjqP-f"
      },
      "source": [
        "## Training\n",
        "Run tensorboard locally to visualize training."
      ]
    },
    {
      "cell_type": "code",
      "execution_count": null,
      "metadata": {
        "colab": {
          "base_uri": "https://localhost:8080/"
        },
        "id": "qdXIhGuXrw_7",
        "outputId": "a69ed643-8075-4496-ee82-aa85d15c5479"
      },
      "outputs": [],
      "source": [
        "model = PPO('MultiInputPolicy', \"parking-v0\", device=\"cpu\", verbose=2)\n",
        "model.learn(int(2e4))"
      ]
    },
    {
      "cell_type": "markdown",
      "metadata": {
        "id": "n2Bu_Pqop0E7"
      },
      "source": [
        "## Testing\n",
        "\n",
        "Visualize a few episodes"
      ]
    },
    {
      "cell_type": "code",
      "execution_count": 16,
      "metadata": {
        "colab": {
          "base_uri": "https://localhost:8080/",
          "height": 1000,
          "referenced_widgets": [
            "8aa5e4aa1b654a1a95d96a9fe7bb9147",
            "5617b1fa62794eac9656eb8947dbbdd4",
            "99d60d824bb1489cbaff78560374fe00",
            "2aafa195384d4ac48707c4966f621ff7",
            "fcfab23cf0f649de96f73e594e70fa5f",
            "f4e0c8d5d32343e2ab4f1abec44ca261",
            "e106612d30594d72b59d2dbb8108b1cc",
            "026f3d9eda584ceb94eff851d3e258ed",
            "efd3c5d6f01945028bb3d5be416e3f21",
            "a75d390ccc834b0ca07069ab66d8fdf9",
            "6f88005b3d1e485e8de913e7e30d1a7e"
          ]
        },
        "id": "xOcOP7Of18T2",
        "outputId": "da1f6d3b-9c37-41f4-f156-1a6de768aeb6"
      },
      "outputs": [
        {
          "name": "stderr",
          "output_type": "stream",
          "text": [
            "/usr/local/lib/python3.10/dist-packages/gymnasium/wrappers/record_video.py:94: UserWarning: \u001b[33mWARN: Overwriting existing videos at /content/videos folder (try specifying a different `video_folder` for the `RecordVideo` wrapper if this is not desired)\u001b[0m\n",
            "  logger.warn(\n"
          ]
        },
        {
          "data": {
            "application/vnd.jupyter.widget-view+json": {
              "model_id": "8aa5e4aa1b654a1a95d96a9fe7bb9147",
              "version_major": 2,
              "version_minor": 0
            },
            "text/plain": [
              "Test episodes:   0%|          | 0/3 [00:00<?, ?it/s]"
            ]
          },
          "metadata": {},
          "output_type": "display_data"
        },
        {
          "name": "stdout",
          "output_type": "stream",
          "text": [
            "Moviepy - Building video /content/videos/rl-video-episode-0.mp4.\n",
            "Moviepy - Writing video /content/videos/rl-video-episode-0.mp4\n",
            "\n"
          ]
        },
        {
          "name": "stderr",
          "output_type": "stream",
          "text": [
            "\n",
            "t:   0%|          | 0/44 [00:00<?, ?it/s, now=None]\u001b[A\n",
            "t:  39%|███▊      | 17/44 [00:00<00:00, 167.96it/s, now=None]\u001b[A\n",
            "t:  77%|███████▋  | 34/44 [00:00<00:00, 161.88it/s, now=None]\u001b[A\n",
            "                                                             \u001b[A"
          ]
        },
        {
          "name": "stdout",
          "output_type": "stream",
          "text": [
            "Moviepy - Done !\n",
            "Moviepy - video ready /content/videos/rl-video-episode-0.mp4\n",
            "Moviepy - Building video /content/videos/rl-video-episode-1.mp4.\n",
            "Moviepy - Writing video /content/videos/rl-video-episode-1.mp4\n",
            "\n"
          ]
        },
        {
          "name": "stderr",
          "output_type": "stream",
          "text": [
            "\n",
            "t:   0%|          | 0/47 [00:00<?, ?it/s, now=None]\u001b[A\n",
            "t:  19%|█▉        | 9/47 [00:00<00:00, 89.17it/s, now=None]\u001b[A\n",
            "t:  40%|████      | 19/47 [00:00<00:00, 91.49it/s, now=None]\u001b[A\n",
            "t:  62%|██████▏   | 29/47 [00:00<00:00, 87.59it/s, now=None]\u001b[A\n",
            "t:  81%|████████  | 38/47 [00:00<00:00, 87.62it/s, now=None]\u001b[A\n",
            "t: 100%|██████████| 47/47 [00:00<00:00, 81.79it/s, now=None]\u001b[A\n",
            "                                                            \u001b[A"
          ]
        },
        {
          "name": "stdout",
          "output_type": "stream",
          "text": [
            "Moviepy - Done !\n",
            "Moviepy - video ready /content/videos/rl-video-episode-1.mp4\n",
            "Moviepy - Building video /content/videos/rl-video-episode-2.mp4.\n",
            "Moviepy - Writing video /content/videos/rl-video-episode-2.mp4\n",
            "\n"
          ]
        },
        {
          "name": "stderr",
          "output_type": "stream",
          "text": [
            "\n",
            "t:   0%|          | 0/44 [00:00<?, ?it/s, now=None]\u001b[A\n",
            "t:  43%|████▎     | 19/44 [00:00<00:00, 181.78it/s, now=None]\u001b[A\n",
            "t:  86%|████████▋ | 38/44 [00:00<00:00, 176.96it/s, now=None]\u001b[A\n",
            "                                                             \u001b[A"
          ]
        },
        {
          "name": "stdout",
          "output_type": "stream",
          "text": [
            "Moviepy - Done !\n",
            "Moviepy - video ready /content/videos/rl-video-episode-2.mp4\n"
          ]
        },
        {
          "data": {
            "text/html": [
              "<video alt=\"videos/rl-video-episode-2.mp4\" autoplay\n",
              "                      loop controls style=\"height: 400px;\">\n",
              "                      <source src=\"data:video/mp4;base64,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\" type=\"video/mp4\" />\n",
              "                 </video><br><video alt=\"videos/rl-video-episode-1.mp4\" autoplay\n",
              "                      loop controls style=\"height: 400px;\">\n",
              "                      <source src=\"data:video/mp4;base64,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\" type=\"video/mp4\" />\n",
              "                 </video><br><video alt=\"videos/rl-video-episode-0.mp4\" autoplay\n",
              "                      loop controls style=\"height: 400px;\">\n",
              "                      <source src=\"data:video/mp4;base64,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\" type=\"video/mp4\" />\n",
              "                 </video>"
            ],
            "text/plain": [
              "<IPython.core.display.HTML object>"
            ]
          },
          "metadata": {},
          "output_type": "display_data"
        }
      ],
      "source": [
        "env = gym.make('parking-v0', render_mode='rgb_array')\n",
        "env = record_videos(env)\n",
        "for episode in trange(3, desc='Test episodes'):\n",
        "    (obs, info), done = env.reset(), False\n",
        "    for i in range(100):\n",
        "        action, _ = model.predict(obs, deterministic=True)\n",
        "        obs, reward, done, truncated, info = env.step(action)\n",
        "        if done:\n",
        "          break\n",
        "env.close()\n",
        "show_videos()"
      ]
    }
  ],
  "metadata": {
    "accelerator": "GPU",
    "colab": {
      "provenance": []
    },
    "kernelspec": {
      "display_name": "Python 3",
      "language": "python",
      "name": "python3"
    },
    "language_info": {
      "codemirror_mode": {
        "name": "ipython",
        "version": 3
      },
      "file_extension": ".py",
      "mimetype": "text/x-python",
      "name": "python",
      "nbconvert_exporter": "python",
      "pygments_lexer": "ipython3",
      "version": "3.6.5"
    },
    "pycharm": {
      "stem_cell": {
        "cell_type": "raw",
        "metadata": {
          "collapsed": false
        },
        "source": []
      }
    },
    "widgets": {
      "application/vnd.jupyter.widget-state+json": {
        "026f3d9eda584ceb94eff851d3e258ed": {
          "model_module": "@jupyter-widgets/base",
          "model_module_version": "1.2.0",
          "model_name": "LayoutModel",
          "state": {
            "_model_module": "@jupyter-widgets/base",
            "_model_module_version": "1.2.0",
            "_model_name": "LayoutModel",
            "_view_count": null,
            "_view_module": "@jupyter-widgets/base",
            "_view_module_version": "1.2.0",
            "_view_name": "LayoutView",
            "align_content": null,
            "align_items": null,
            "align_self": null,
            "border": null,
            "bottom": null,
            "display": null,
            "flex": null,
            "flex_flow": null,
            "grid_area": null,
            "grid_auto_columns": null,
            "grid_auto_flow": null,
            "grid_auto_rows": null,
            "grid_column": null,
            "grid_gap": null,
            "grid_row": null,
            "grid_template_areas": null,
            "grid_template_columns": null,
            "grid_template_rows": null,
            "height": null,
            "justify_content": null,
            "justify_items": null,
            "left": null,
            "margin": null,
            "max_height": null,
            "max_width": null,
            "min_height": null,
            "min_width": null,
            "object_fit": null,
            "object_position": null,
            "order": null,
            "overflow": null,
            "overflow_x": null,
            "overflow_y": null,
            "padding": null,
            "right": null,
            "top": null,
            "visibility": null,
            "width": null
          }
        },
        "2aafa195384d4ac48707c4966f621ff7": {
          "model_module": "@jupyter-widgets/controls",
          "model_module_version": "1.5.0",
          "model_name": "HTMLModel",
          "state": {
            "_dom_classes": [],
            "_model_module": "@jupyter-widgets/controls",
            "_model_module_version": "1.5.0",
            "_model_name": "HTMLModel",
            "_view_count": null,
            "_view_module": "@jupyter-widgets/controls",
            "_view_module_version": "1.5.0",
            "_view_name": "HTMLView",
            "description": "",
            "description_tooltip": null,
            "layout": "IPY_MODEL_a75d390ccc834b0ca07069ab66d8fdf9",
            "placeholder": "​",
            "style": "IPY_MODEL_6f88005b3d1e485e8de913e7e30d1a7e",
            "value": " 3/3 [00:05&lt;00:00,  1.71s/it]"
          }
        },
        "5617b1fa62794eac9656eb8947dbbdd4": {
          "model_module": "@jupyter-widgets/controls",
          "model_module_version": "1.5.0",
          "model_name": "HTMLModel",
          "state": {
            "_dom_classes": [],
            "_model_module": "@jupyter-widgets/controls",
            "_model_module_version": "1.5.0",
            "_model_name": "HTMLModel",
            "_view_count": null,
            "_view_module": "@jupyter-widgets/controls",
            "_view_module_version": "1.5.0",
            "_view_name": "HTMLView",
            "description": "",
            "description_tooltip": null,
            "layout": "IPY_MODEL_f4e0c8d5d32343e2ab4f1abec44ca261",
            "placeholder": "​",
            "style": "IPY_MODEL_e106612d30594d72b59d2dbb8108b1cc",
            "value": "Test episodes: 100%"
          }
        },
        "6f88005b3d1e485e8de913e7e30d1a7e": {
          "model_module": "@jupyter-widgets/controls",
          "model_module_version": "1.5.0",
          "model_name": "DescriptionStyleModel",
          "state": {
            "_model_module": "@jupyter-widgets/controls",
            "_model_module_version": "1.5.0",
            "_model_name": "DescriptionStyleModel",
            "_view_count": null,
            "_view_module": "@jupyter-widgets/base",
            "_view_module_version": "1.2.0",
            "_view_name": "StyleView",
            "description_width": ""
          }
        },
        "8aa5e4aa1b654a1a95d96a9fe7bb9147": {
          "model_module": "@jupyter-widgets/controls",
          "model_module_version": "1.5.0",
          "model_name": "HBoxModel",
          "state": {
            "_dom_classes": [],
            "_model_module": "@jupyter-widgets/controls",
            "_model_module_version": "1.5.0",
            "_model_name": "HBoxModel",
            "_view_count": null,
            "_view_module": "@jupyter-widgets/controls",
            "_view_module_version": "1.5.0",
            "_view_name": "HBoxView",
            "box_style": "",
            "children": [
              "IPY_MODEL_5617b1fa62794eac9656eb8947dbbdd4",
              "IPY_MODEL_99d60d824bb1489cbaff78560374fe00",
              "IPY_MODEL_2aafa195384d4ac48707c4966f621ff7"
            ],
            "layout": "IPY_MODEL_fcfab23cf0f649de96f73e594e70fa5f"
          }
        },
        "99d60d824bb1489cbaff78560374fe00": {
          "model_module": "@jupyter-widgets/controls",
          "model_module_version": "1.5.0",
          "model_name": "FloatProgressModel",
          "state": {
            "_dom_classes": [],
            "_model_module": "@jupyter-widgets/controls",
            "_model_module_version": "1.5.0",
            "_model_name": "FloatProgressModel",
            "_view_count": null,
            "_view_module": "@jupyter-widgets/controls",
            "_view_module_version": "1.5.0",
            "_view_name": "ProgressView",
            "bar_style": "success",
            "description": "",
            "description_tooltip": null,
            "layout": "IPY_MODEL_026f3d9eda584ceb94eff851d3e258ed",
            "max": 3,
            "min": 0,
            "orientation": "horizontal",
            "style": "IPY_MODEL_efd3c5d6f01945028bb3d5be416e3f21",
            "value": 3
          }
        },
        "a75d390ccc834b0ca07069ab66d8fdf9": {
          "model_module": "@jupyter-widgets/base",
          "model_module_version": "1.2.0",
          "model_name": "LayoutModel",
          "state": {
            "_model_module": "@jupyter-widgets/base",
            "_model_module_version": "1.2.0",
            "_model_name": "LayoutModel",
            "_view_count": null,
            "_view_module": "@jupyter-widgets/base",
            "_view_module_version": "1.2.0",
            "_view_name": "LayoutView",
            "align_content": null,
            "align_items": null,
            "align_self": null,
            "border": null,
            "bottom": null,
            "display": null,
            "flex": null,
            "flex_flow": null,
            "grid_area": null,
            "grid_auto_columns": null,
            "grid_auto_flow": null,
            "grid_auto_rows": null,
            "grid_column": null,
            "grid_gap": null,
            "grid_row": null,
            "grid_template_areas": null,
            "grid_template_columns": null,
            "grid_template_rows": null,
            "height": null,
            "justify_content": null,
            "justify_items": null,
            "left": null,
            "margin": null,
            "max_height": null,
            "max_width": null,
            "min_height": null,
            "min_width": null,
            "object_fit": null,
            "object_position": null,
            "order": null,
            "overflow": null,
            "overflow_x": null,
            "overflow_y": null,
            "padding": null,
            "right": null,
            "top": null,
            "visibility": null,
            "width": null
          }
        },
        "e106612d30594d72b59d2dbb8108b1cc": {
          "model_module": "@jupyter-widgets/controls",
          "model_module_version": "1.5.0",
          "model_name": "DescriptionStyleModel",
          "state": {
            "_model_module": "@jupyter-widgets/controls",
            "_model_module_version": "1.5.0",
            "_model_name": "DescriptionStyleModel",
            "_view_count": null,
            "_view_module": "@jupyter-widgets/base",
            "_view_module_version": "1.2.0",
            "_view_name": "StyleView",
            "description_width": ""
          }
        },
        "efd3c5d6f01945028bb3d5be416e3f21": {
          "model_module": "@jupyter-widgets/controls",
          "model_module_version": "1.5.0",
          "model_name": "ProgressStyleModel",
          "state": {
            "_model_module": "@jupyter-widgets/controls",
            "_model_module_version": "1.5.0",
            "_model_name": "ProgressStyleModel",
            "_view_count": null,
            "_view_module": "@jupyter-widgets/base",
            "_view_module_version": "1.2.0",
            "_view_name": "StyleView",
            "bar_color": null,
            "description_width": ""
          }
        },
        "f4e0c8d5d32343e2ab4f1abec44ca261": {
          "model_module": "@jupyter-widgets/base",
          "model_module_version": "1.2.0",
          "model_name": "LayoutModel",
          "state": {
            "_model_module": "@jupyter-widgets/base",
            "_model_module_version": "1.2.0",
            "_model_name": "LayoutModel",
            "_view_count": null,
            "_view_module": "@jupyter-widgets/base",
            "_view_module_version": "1.2.0",
            "_view_name": "LayoutView",
            "align_content": null,
            "align_items": null,
            "align_self": null,
            "border": null,
            "bottom": null,
            "display": null,
            "flex": null,
            "flex_flow": null,
            "grid_area": null,
            "grid_auto_columns": null,
            "grid_auto_flow": null,
            "grid_auto_rows": null,
            "grid_column": null,
            "grid_gap": null,
            "grid_row": null,
            "grid_template_areas": null,
            "grid_template_columns": null,
            "grid_template_rows": null,
            "height": null,
            "justify_content": null,
            "justify_items": null,
            "left": null,
            "margin": null,
            "max_height": null,
            "max_width": null,
            "min_height": null,
            "min_width": null,
            "object_fit": null,
            "object_position": null,
            "order": null,
            "overflow": null,
            "overflow_x": null,
            "overflow_y": null,
            "padding": null,
            "right": null,
            "top": null,
            "visibility": null,
            "width": null
          }
        },
        "fcfab23cf0f649de96f73e594e70fa5f": {
          "model_module": "@jupyter-widgets/base",
          "model_module_version": "1.2.0",
          "model_name": "LayoutModel",
          "state": {
            "_model_module": "@jupyter-widgets/base",
            "_model_module_version": "1.2.0",
            "_model_name": "LayoutModel",
            "_view_count": null,
            "_view_module": "@jupyter-widgets/base",
            "_view_module_version": "1.2.0",
            "_view_name": "LayoutView",
            "align_content": null,
            "align_items": null,
            "align_self": null,
            "border": null,
            "bottom": null,
            "display": null,
            "flex": null,
            "flex_flow": null,
            "grid_area": null,
            "grid_auto_columns": null,
            "grid_auto_flow": null,
            "grid_auto_rows": null,
            "grid_column": null,
            "grid_gap": null,
            "grid_row": null,
            "grid_template_areas": null,
            "grid_template_columns": null,
            "grid_template_rows": null,
            "height": null,
            "justify_content": null,
            "justify_items": null,
            "left": null,
            "margin": null,
            "max_height": null,
            "max_width": null,
            "min_height": null,
            "min_width": null,
            "object_fit": null,
            "object_position": null,
            "order": null,
            "overflow": null,
            "overflow_x": null,
            "overflow_y": null,
            "padding": null,
            "right": null,
            "top": null,
            "visibility": null,
            "width": null
          }
        }
      }
    }
  },
  "nbformat": 4,
  "nbformat_minor": 0
}
