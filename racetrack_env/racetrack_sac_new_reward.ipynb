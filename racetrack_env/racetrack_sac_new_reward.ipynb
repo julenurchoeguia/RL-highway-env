{
  "cells": [
    {
      "cell_type": "markdown",
      "metadata": {
        "id": "5eeje4O8fviH"
      },
      "source": [
        "# Racetrack with SB3's SAC\n",
        "\n",
        "##  Warming up\n",
        "We start with a few useful installs and imports:"
      ]
    },
    {
      "cell_type": "code",
      "execution_count": null,
      "metadata": {},
      "outputs": [],
      "source": [
        "# Installs\n",
        "\n",
        "# Install environment and agent\n",
        "!pip install highway-env\n",
        "# TODO: we use the bleeding edge version because the current stable version does not support the latest gym>=0.21 versions. Revert back to stable at the next SB3 release.\n",
        "!pip install git+https://github.com/DLR-RM/stable-baselines3"
      ]
    },
    {
      "cell_type": "code",
      "execution_count": 4,
      "metadata": {
        "colab": {
          "base_uri": "https://localhost:8080/"
        },
        "id": "bzMSuJEOfviP",
        "outputId": "35729252-32ae-465b-b3d4-0ca2ecdc8b67"
      },
      "outputs": [],
      "source": [
        "# Environment\n",
        "import gymnasium as gym\n",
        "import highway_env\n",
        "\n",
        "# Agent\n",
        "from stable_baselines3 import SAC"
      ]
    },
    {
      "cell_type": "markdown",
      "metadata": {},
      "source": [
        "### Changing Rewards on environnement\n",
        "\n",
        "For our experiment we are going to modify a little bit our reward function on the environnement to see if the agents improves"
      ]
    },
    {
      "cell_type": "code",
      "execution_count": 5,
      "metadata": {},
      "outputs": [],
      "source": [
        "from highway_env.envs import RacetrackEnv\n",
        "import numpy as np\n",
        "from typing import Dict, Text\n",
        "\n",
        "    \n",
        "class RacetrackEnvModified(RacetrackEnv):\n",
        "    \n",
        "    def _rewards(self, action: np.ndarray) -> Dict[Text, float]:\n",
        "        _, lateral = self.vehicle.lane.local_coordinates(self.vehicle.position)\n",
        "        return {\n",
        "            # \"lane_centering_reward\": 1/(1+self.config[\"lane_centering_cost\"]*lateral**2),\n",
        "            # \"action_reward\": np.linalg.norm(action),\n",
        "            \"collision_reward\": self.vehicle.crashed,\n",
        "            \"on_road_reward\": self.vehicle.on_road,\n",
        "        }\n",
        "\n"
      ]
    },
    {
      "cell_type": "markdown",
      "metadata": {},
      "source": [
        "### Environnement configuration"
      ]
    },
    {
      "cell_type": "code",
      "execution_count": 7,
      "metadata": {},
      "outputs": [],
      "source": [
        "# Configure racetrack environnment\n",
        "configuration = {\n",
        "    \"observation\": {\n",
        "        \"type\": \"OccupancyGrid\",\n",
        "        \"features\": ['presence', 'on_road'],\n",
        "        \"grid_size\": [[-18, 18], [-18, 18]],\n",
        "        \"grid_step\": [3, 3],\n",
        "        \"as_image\": False,\n",
        "        \"align_to_vehicle_axes\": True\n",
        "    },\n",
        "    \"action\": {\n",
        "        \"type\": \"ContinuousAction\",\n",
        "        \"longitudinal\": False,\n",
        "        \"lateral\": True,\n",
        "    },\n",
        "    \"simulation_frequency\": 15,\n",
        "    \"policy_frequency\": 5,\n",
        "    \"duration\": 300,\n",
        "    \"collision_reward\": -1,\n",
        "    \"lane_centering_cost\": 4,\n",
        "    \"lane_centering_reward\": 1,\n",
        "    \"action_reward\": -0.3,\n",
        "    \"controlled_vehicles\": 1,\n",
        "    \"other_vehicles\": 1,\n",
        "    \"screen_width\": 600,\n",
        "    \"screen_height\": 600,\n",
        "    \"centering_position\": [0.5, 0.5],\n",
        "    \"scaling\": 7,\n",
        "    \"show_trajectories\": False,\n",
        "    \"render_agent\": True,\n",
        "    \"offscreen_rendering\": False\n",
        "}\n",
        "\n",
        "\n",
        "\n",
        "env = RacetrackEnvModified(configuration)"
      ]
    },
    {
      "cell_type": "markdown",
      "metadata": {
        "collapsed": false,
        "id": "_wACJRDjqP-f"
      },
      "source": [
        "### Training default env"
      ]
    },
    {
      "cell_type": "code",
      "execution_count": 8,
      "metadata": {
        "colab": {
          "base_uri": "https://localhost:8080/"
        },
        "id": "qdXIhGuXrw_7",
        "outputId": "5655c945-41d4-4758-9b91-804f07dec498"
      },
      "outputs": [
        {
          "name": "stdout",
          "output_type": "stream",
          "text": [
            "Using cpu device\n",
            "Wrapping the env with a `Monitor` wrapper\n",
            "Wrapping the env in a DummyVecEnv.\n",
            "---------------------------------\n",
            "| rollout/           |          |\n",
            "|    ep_len_mean     | 1.35e+03 |\n",
            "|    ep_rew_mean     | 61.5     |\n",
            "| time/              |          |\n",
            "|    episodes        | 4        |\n",
            "|    fps             | 23       |\n",
            "|    time_elapsed    | 233      |\n",
            "|    total_timesteps | 5397     |\n",
            "| train/             |          |\n",
            "|    actor_loss      | -7.61    |\n",
            "|    critic_loss     | 0.0187   |\n",
            "|    ent_coef        | 0.205    |\n",
            "|    ent_coef_loss   | -2.55    |\n",
            "|    learning_rate   | 0.0003   |\n",
            "|    n_updates       | 5296     |\n",
            "---------------------------------\n",
            "---------------------------------\n",
            "| rollout/           |          |\n",
            "|    ep_len_mean     | 1.05e+03 |\n",
            "|    ep_rew_mean     | 182      |\n",
            "| time/              |          |\n",
            "|    episodes        | 8        |\n",
            "|    fps             | 22       |\n",
            "|    time_elapsed    | 367      |\n",
            "|    total_timesteps | 8433     |\n",
            "| train/             |          |\n",
            "|    actor_loss      | -10.7    |\n",
            "|    critic_loss     | 0.0186   |\n",
            "|    ent_coef        | 0.0872   |\n",
            "|    ent_coef_loss   | -3.13    |\n",
            "|    learning_rate   | 0.0003   |\n",
            "|    n_updates       | 8332     |\n",
            "---------------------------------\n",
            "---------------------------------\n",
            "| rollout/           |          |\n",
            "|    ep_len_mean     | 826      |\n",
            "|    ep_rew_mean     | 182      |\n",
            "| time/              |          |\n",
            "|    episodes        | 12       |\n",
            "|    fps             | 22       |\n",
            "|    time_elapsed    | 432      |\n",
            "|    total_timesteps | 9908     |\n",
            "| train/             |          |\n",
            "|    actor_loss      | -11.8    |\n",
            "|    critic_loss     | 0.0726   |\n",
            "|    ent_coef        | 0.0582   |\n",
            "|    ent_coef_loss   | -3.07    |\n",
            "|    learning_rate   | 0.0003   |\n",
            "|    n_updates       | 9807     |\n",
            "---------------------------------\n",
            "---------------------------------\n",
            "| rollout/           |          |\n",
            "|    ep_len_mean     | 723      |\n",
            "|    ep_rew_mean     | 188      |\n",
            "| time/              |          |\n",
            "|    episodes        | 16       |\n",
            "|    fps             | 22       |\n",
            "|    time_elapsed    | 504      |\n",
            "|    total_timesteps | 11574    |\n",
            "| train/             |          |\n",
            "|    actor_loss      | -14.1    |\n",
            "|    critic_loss     | 0.105    |\n",
            "|    ent_coef        | 0.0374   |\n",
            "|    ent_coef_loss   | -2.76    |\n",
            "|    learning_rate   | 0.0003   |\n",
            "|    n_updates       | 11473    |\n",
            "---------------------------------\n",
            "---------------------------------\n",
            "| rollout/           |          |\n",
            "|    ep_len_mean     | 755      |\n",
            "|    ep_rew_mean     | 238      |\n",
            "| time/              |          |\n",
            "|    episodes        | 20       |\n",
            "|    fps             | 22       |\n",
            "|    time_elapsed    | 661      |\n",
            "|    total_timesteps | 15104    |\n",
            "| train/             |          |\n",
            "|    actor_loss      | -17.3    |\n",
            "|    critic_loss     | 0.114    |\n",
            "|    ent_coef        | 0.0204   |\n",
            "|    ent_coef_loss   | 1.12     |\n",
            "|    learning_rate   | 0.0003   |\n",
            "|    n_updates       | 15003    |\n",
            "---------------------------------\n"
          ]
        }
      ],
      "source": [
        "model = SAC('MlpPolicy', env,verbose=2)\n",
        "model.learn(int(2e5))"
      ]
    },
    {
      "cell_type": "code",
      "execution_count": 9,
      "metadata": {},
      "outputs": [],
      "source": [
        "# save the model\n",
        "model.save(\"sac_racetrack\")"
      ]
    },
    {
      "cell_type": "code",
      "execution_count": 4,
      "metadata": {},
      "outputs": [],
      "source": [
        "# load the model\n",
        "model = SAC.load(\"sac_racetrack\")"
      ]
    },
    {
      "cell_type": "markdown",
      "metadata": {
        "id": "n2Bu_Pqop0E7"
      },
      "source": [
        "## Testing\n",
        "\n",
        "Visualize a few episodes"
      ]
    },
    {
      "cell_type": "code",
      "execution_count": 5,
      "metadata": {
        "colab": {
          "background_save": true,
          "base_uri": "https://localhost:8080/",
          "height": 105,
          "referenced_widgets": [
            "278f93693427454b9bb4206e43cbe3d7",
            "6d3167a467ba479580d3d66b8884ecf9",
            "02594cf643034467ab7940d85bd0e265",
            "1e0f32380fe94d0189721c627841342f",
            "c3a3a6f1aec547fdbce0f8be67b1d55d",
            "456ac2e8bf7842d6a334a4c659b4792d",
            "f90fa2db2ae8437f8081f9e0c23eddd1",
            "e042d706d96e40b0afc3490eb53f8637",
            "7792dabad2d4467383384a8dd72a4509",
            "d5cec15b8c8347b68a70b1a3eebd59fe",
            "cff5160d998148e59a88423f9e0e451e"
          ]
        },
        "id": "xOcOP7Of18T2",
        "outputId": "4edb273d-df28-43db-b527-28d10773b1e7"
      },
      "outputs": [
        {
          "ename": "NameError",
          "evalue": "name 'record_videos' is not defined",
          "output_type": "error",
          "traceback": [
            "\u001b[0;31m---------------------------------------------------------------------------\u001b[0m",
            "\u001b[0;31mNameError\u001b[0m                                 Traceback (most recent call last)",
            "Cell \u001b[0;32mIn[5], line 2\u001b[0m\n\u001b[1;32m      1\u001b[0m env \u001b[38;5;241m=\u001b[39m gym\u001b[38;5;241m.\u001b[39mmake(\u001b[38;5;124m'\u001b[39m\u001b[38;5;124mracetrack-v0\u001b[39m\u001b[38;5;124m'\u001b[39m, render_mode\u001b[38;5;241m=\u001b[39m\u001b[38;5;124m'\u001b[39m\u001b[38;5;124mrgb_array\u001b[39m\u001b[38;5;124m'\u001b[39m)\n\u001b[0;32m----> 2\u001b[0m env \u001b[38;5;241m=\u001b[39m \u001b[43mrecord_videos\u001b[49m(env)\n\u001b[1;32m      3\u001b[0m \u001b[38;5;28;01mfor\u001b[39;00m episode \u001b[38;5;129;01min\u001b[39;00m trange(\u001b[38;5;241m3\u001b[39m, desc\u001b[38;5;241m=\u001b[39m\u001b[38;5;124m'\u001b[39m\u001b[38;5;124mTest episodes\u001b[39m\u001b[38;5;124m'\u001b[39m):\n\u001b[1;32m      4\u001b[0m     (obs, info), done \u001b[38;5;241m=\u001b[39m env\u001b[38;5;241m.\u001b[39mreset(), \u001b[38;5;28;01mFalse\u001b[39;00m\n",
            "\u001b[0;31mNameError\u001b[0m: name 'record_videos' is not defined"
          ]
        }
      ],
      "source": [
        "env = gym.make('racetrack-v0', render_mode='rgb_array')\n",
        "env = record_videos(env)\n",
        "for episode in trange(3, desc='Test episodes'):\n",
        "    (obs, info), done = env.reset(), False\n",
        "    for i in range(100):\n",
        "        action, _ = model.predict(obs, deterministic=True)\n",
        "        obs, reward, done, truncated, info = env.step(action)\n",
        "        if done:\n",
        "          break\n",
        "env.close()\n",
        "show_videos()"
      ]
    }
  ],
  "metadata": {
    "accelerator": "GPU",
    "colab": {
      "provenance": []
    },
    "kernelspec": {
      "display_name": "Python 3",
      "language": "python",
      "name": "python3"
    },
    "language_info": {
      "codemirror_mode": {
        "name": "ipython",
        "version": 3
      },
      "file_extension": ".py",
      "mimetype": "text/x-python",
      "name": "python",
      "nbconvert_exporter": "python",
      "pygments_lexer": "ipython3",
      "version": "3.10.13"
    },
    "pycharm": {
      "stem_cell": {
        "cell_type": "raw",
        "metadata": {
          "collapsed": false
        },
        "source": []
      }
    },
    "widgets": {
      "application/vnd.jupyter.widget-state+json": {
        "02594cf643034467ab7940d85bd0e265": {
          "model_module": "@jupyter-widgets/controls",
          "model_module_version": "1.5.0",
          "model_name": "FloatProgressModel",
          "state": {
            "_dom_classes": [],
            "_model_module": "@jupyter-widgets/controls",
            "_model_module_version": "1.5.0",
            "_model_name": "FloatProgressModel",
            "_view_count": null,
            "_view_module": "@jupyter-widgets/controls",
            "_view_module_version": "1.5.0",
            "_view_name": "ProgressView",
            "bar_style": "",
            "description": "",
            "description_tooltip": null,
            "layout": "IPY_MODEL_e042d706d96e40b0afc3490eb53f8637",
            "max": 3,
            "min": 0,
            "orientation": "horizontal",
            "style": "IPY_MODEL_7792dabad2d4467383384a8dd72a4509",
            "value": 0
          }
        },
        "1e0f32380fe94d0189721c627841342f": {
          "model_module": "@jupyter-widgets/controls",
          "model_module_version": "1.5.0",
          "model_name": "HTMLModel",
          "state": {
            "_dom_classes": [],
            "_model_module": "@jupyter-widgets/controls",
            "_model_module_version": "1.5.0",
            "_model_name": "HTMLModel",
            "_view_count": null,
            "_view_module": "@jupyter-widgets/controls",
            "_view_module_version": "1.5.0",
            "_view_name": "HTMLView",
            "description": "",
            "description_tooltip": null,
            "layout": "IPY_MODEL_d5cec15b8c8347b68a70b1a3eebd59fe",
            "placeholder": "​",
            "style": "IPY_MODEL_cff5160d998148e59a88423f9e0e451e",
            "value": " 0/3 [00:00&lt;?, ?it/s]"
          }
        },
        "278f93693427454b9bb4206e43cbe3d7": {
          "model_module": "@jupyter-widgets/controls",
          "model_module_version": "1.5.0",
          "model_name": "HBoxModel",
          "state": {
            "_dom_classes": [],
            "_model_module": "@jupyter-widgets/controls",
            "_model_module_version": "1.5.0",
            "_model_name": "HBoxModel",
            "_view_count": null,
            "_view_module": "@jupyter-widgets/controls",
            "_view_module_version": "1.5.0",
            "_view_name": "HBoxView",
            "box_style": "",
            "children": [
              "IPY_MODEL_6d3167a467ba479580d3d66b8884ecf9",
              "IPY_MODEL_02594cf643034467ab7940d85bd0e265",
              "IPY_MODEL_1e0f32380fe94d0189721c627841342f"
            ],
            "layout": "IPY_MODEL_c3a3a6f1aec547fdbce0f8be67b1d55d"
          }
        },
        "456ac2e8bf7842d6a334a4c659b4792d": {
          "model_module": "@jupyter-widgets/base",
          "model_module_version": "1.2.0",
          "model_name": "LayoutModel",
          "state": {
            "_model_module": "@jupyter-widgets/base",
            "_model_module_version": "1.2.0",
            "_model_name": "LayoutModel",
            "_view_count": null,
            "_view_module": "@jupyter-widgets/base",
            "_view_module_version": "1.2.0",
            "_view_name": "LayoutView",
            "align_content": null,
            "align_items": null,
            "align_self": null,
            "border": null,
            "bottom": null,
            "display": null,
            "flex": null,
            "flex_flow": null,
            "grid_area": null,
            "grid_auto_columns": null,
            "grid_auto_flow": null,
            "grid_auto_rows": null,
            "grid_column": null,
            "grid_gap": null,
            "grid_row": null,
            "grid_template_areas": null,
            "grid_template_columns": null,
            "grid_template_rows": null,
            "height": null,
            "justify_content": null,
            "justify_items": null,
            "left": null,
            "margin": null,
            "max_height": null,
            "max_width": null,
            "min_height": null,
            "min_width": null,
            "object_fit": null,
            "object_position": null,
            "order": null,
            "overflow": null,
            "overflow_x": null,
            "overflow_y": null,
            "padding": null,
            "right": null,
            "top": null,
            "visibility": null,
            "width": null
          }
        },
        "6d3167a467ba479580d3d66b8884ecf9": {
          "model_module": "@jupyter-widgets/controls",
          "model_module_version": "1.5.0",
          "model_name": "HTMLModel",
          "state": {
            "_dom_classes": [],
            "_model_module": "@jupyter-widgets/controls",
            "_model_module_version": "1.5.0",
            "_model_name": "HTMLModel",
            "_view_count": null,
            "_view_module": "@jupyter-widgets/controls",
            "_view_module_version": "1.5.0",
            "_view_name": "HTMLView",
            "description": "",
            "description_tooltip": null,
            "layout": "IPY_MODEL_456ac2e8bf7842d6a334a4c659b4792d",
            "placeholder": "​",
            "style": "IPY_MODEL_f90fa2db2ae8437f8081f9e0c23eddd1",
            "value": "Test episodes:   0%"
          }
        },
        "7792dabad2d4467383384a8dd72a4509": {
          "model_module": "@jupyter-widgets/controls",
          "model_module_version": "1.5.0",
          "model_name": "ProgressStyleModel",
          "state": {
            "_model_module": "@jupyter-widgets/controls",
            "_model_module_version": "1.5.0",
            "_model_name": "ProgressStyleModel",
            "_view_count": null,
            "_view_module": "@jupyter-widgets/base",
            "_view_module_version": "1.2.0",
            "_view_name": "StyleView",
            "bar_color": null,
            "description_width": ""
          }
        },
        "c3a3a6f1aec547fdbce0f8be67b1d55d": {
          "model_module": "@jupyter-widgets/base",
          "model_module_version": "1.2.0",
          "model_name": "LayoutModel",
          "state": {
            "_model_module": "@jupyter-widgets/base",
            "_model_module_version": "1.2.0",
            "_model_name": "LayoutModel",
            "_view_count": null,
            "_view_module": "@jupyter-widgets/base",
            "_view_module_version": "1.2.0",
            "_view_name": "LayoutView",
            "align_content": null,
            "align_items": null,
            "align_self": null,
            "border": null,
            "bottom": null,
            "display": null,
            "flex": null,
            "flex_flow": null,
            "grid_area": null,
            "grid_auto_columns": null,
            "grid_auto_flow": null,
            "grid_auto_rows": null,
            "grid_column": null,
            "grid_gap": null,
            "grid_row": null,
            "grid_template_areas": null,
            "grid_template_columns": null,
            "grid_template_rows": null,
            "height": null,
            "justify_content": null,
            "justify_items": null,
            "left": null,
            "margin": null,
            "max_height": null,
            "max_width": null,
            "min_height": null,
            "min_width": null,
            "object_fit": null,
            "object_position": null,
            "order": null,
            "overflow": null,
            "overflow_x": null,
            "overflow_y": null,
            "padding": null,
            "right": null,
            "top": null,
            "visibility": null,
            "width": null
          }
        },
        "cff5160d998148e59a88423f9e0e451e": {
          "model_module": "@jupyter-widgets/controls",
          "model_module_version": "1.5.0",
          "model_name": "DescriptionStyleModel",
          "state": {
            "_model_module": "@jupyter-widgets/controls",
            "_model_module_version": "1.5.0",
            "_model_name": "DescriptionStyleModel",
            "_view_count": null,
            "_view_module": "@jupyter-widgets/base",
            "_view_module_version": "1.2.0",
            "_view_name": "StyleView",
            "description_width": ""
          }
        },
        "d5cec15b8c8347b68a70b1a3eebd59fe": {
          "model_module": "@jupyter-widgets/base",
          "model_module_version": "1.2.0",
          "model_name": "LayoutModel",
          "state": {
            "_model_module": "@jupyter-widgets/base",
            "_model_module_version": "1.2.0",
            "_model_name": "LayoutModel",
            "_view_count": null,
            "_view_module": "@jupyter-widgets/base",
            "_view_module_version": "1.2.0",
            "_view_name": "LayoutView",
            "align_content": null,
            "align_items": null,
            "align_self": null,
            "border": null,
            "bottom": null,
            "display": null,
            "flex": null,
            "flex_flow": null,
            "grid_area": null,
            "grid_auto_columns": null,
            "grid_auto_flow": null,
            "grid_auto_rows": null,
            "grid_column": null,
            "grid_gap": null,
            "grid_row": null,
            "grid_template_areas": null,
            "grid_template_columns": null,
            "grid_template_rows": null,
            "height": null,
            "justify_content": null,
            "justify_items": null,
            "left": null,
            "margin": null,
            "max_height": null,
            "max_width": null,
            "min_height": null,
            "min_width": null,
            "object_fit": null,
            "object_position": null,
            "order": null,
            "overflow": null,
            "overflow_x": null,
            "overflow_y": null,
            "padding": null,
            "right": null,
            "top": null,
            "visibility": null,
            "width": null
          }
        },
        "e042d706d96e40b0afc3490eb53f8637": {
          "model_module": "@jupyter-widgets/base",
          "model_module_version": "1.2.0",
          "model_name": "LayoutModel",
          "state": {
            "_model_module": "@jupyter-widgets/base",
            "_model_module_version": "1.2.0",
            "_model_name": "LayoutModel",
            "_view_count": null,
            "_view_module": "@jupyter-widgets/base",
            "_view_module_version": "1.2.0",
            "_view_name": "LayoutView",
            "align_content": null,
            "align_items": null,
            "align_self": null,
            "border": null,
            "bottom": null,
            "display": null,
            "flex": null,
            "flex_flow": null,
            "grid_area": null,
            "grid_auto_columns": null,
            "grid_auto_flow": null,
            "grid_auto_rows": null,
            "grid_column": null,
            "grid_gap": null,
            "grid_row": null,
            "grid_template_areas": null,
            "grid_template_columns": null,
            "grid_template_rows": null,
            "height": null,
            "justify_content": null,
            "justify_items": null,
            "left": null,
            "margin": null,
            "max_height": null,
            "max_width": null,
            "min_height": null,
            "min_width": null,
            "object_fit": null,
            "object_position": null,
            "order": null,
            "overflow": null,
            "overflow_x": null,
            "overflow_y": null,
            "padding": null,
            "right": null,
            "top": null,
            "visibility": null,
            "width": null
          }
        },
        "f90fa2db2ae8437f8081f9e0c23eddd1": {
          "model_module": "@jupyter-widgets/controls",
          "model_module_version": "1.5.0",
          "model_name": "DescriptionStyleModel",
          "state": {
            "_model_module": "@jupyter-widgets/controls",
            "_model_module_version": "1.5.0",
            "_model_name": "DescriptionStyleModel",
            "_view_count": null,
            "_view_module": "@jupyter-widgets/base",
            "_view_module_version": "1.2.0",
            "_view_name": "StyleView",
            "description_width": ""
          }
        }
      }
    }
  },
  "nbformat": 4,
  "nbformat_minor": 0
}
